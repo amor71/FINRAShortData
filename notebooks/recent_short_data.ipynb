{
 "cells": [
  {
   "cell_type": "code",
   "execution_count": 4,
   "id": "dfc6b7d0",
   "metadata": {},
   "outputs": [
    {
     "name": "stdout",
     "output_type": "stream",
     "text": [
      "Requirement already satisfied: finrashortdata in /Users/amichayoren/venv/finra/lib/python3.10/site-packages (0.0.1)\n",
      "Collecting finrashortdata\n",
      "  Downloading finrashortdata-0.0.11-py3-none-any.whl (17 kB)\n",
      "Requirement already satisfied: requests in /Users/amichayoren/venv/finra/lib/python3.10/site-packages (from finrashortdata) (2.28.0)\n",
      "Requirement already satisfied: certifi>=2017.4.17 in /Users/amichayoren/venv/finra/lib/python3.10/site-packages (from requests->finrashortdata) (2022.6.15)\n",
      "Requirement already satisfied: urllib3<1.27,>=1.21.1 in /Users/amichayoren/venv/finra/lib/python3.10/site-packages (from requests->finrashortdata) (1.26.9)\n",
      "Requirement already satisfied: charset-normalizer~=2.0.0 in /Users/amichayoren/venv/finra/lib/python3.10/site-packages (from requests->finrashortdata) (2.0.12)\n",
      "Requirement already satisfied: idna<4,>=2.5 in /Users/amichayoren/venv/finra/lib/python3.10/site-packages (from requests->finrashortdata) (3.3)\n",
      "Installing collected packages: finrashortdata\n",
      "  Attempting uninstall: finrashortdata\n",
      "    Found existing installation: finrashortdata 0.0.1\n",
      "    Uninstalling finrashortdata-0.0.1:\n",
      "      Successfully uninstalled finrashortdata-0.0.1\n",
      "Successfully installed finrashortdata-0.0.11\n"
     ]
    }
   ],
   "source": [
    "!pip install --no-cache-dir --upgrade finrashortdata"
   ]
  },
  {
   "cell_type": "code",
   "execution_count": 5,
   "id": "91613a9a",
   "metadata": {},
   "outputs": [
    {
     "ename": "ModuleNotFoundError",
     "evalue": "No module named 'finrashortdata'",
     "output_type": "error",
     "traceback": [
      "\u001b[0;31m---------------------------------------------------------------------------\u001b[0m",
      "\u001b[0;31mModuleNotFoundError\u001b[0m                       Traceback (most recent call last)",
      "Input \u001b[0;32mIn [5]\u001b[0m, in \u001b[0;36m<cell line: 1>\u001b[0;34m()\u001b[0m\n\u001b[0;32m----> 1\u001b[0m \u001b[38;5;28;01mfrom\u001b[39;00m \u001b[38;5;21;01mfinrashortdata\u001b[39;00m \u001b[38;5;28;01mimport\u001b[39;00m auth, get_chunk_and_size, process\n",
      "\u001b[0;31mModuleNotFoundError\u001b[0m: No module named 'finrashortdata'"
     ]
    }
   ],
   "source": [
    "from finrashortdata import auth, get_chunk_and_size, process"
   ]
  }
 ],
 "metadata": {
  "kernelspec": {
   "display_name": "venv",
   "language": "python",
   "name": "venv"
  },
  "language_info": {
   "codemirror_mode": {
    "name": "ipython",
    "version": 3
   },
   "file_extension": ".py",
   "mimetype": "text/x-python",
   "name": "python",
   "nbconvert_exporter": "python",
   "pygments_lexer": "ipython3",
   "version": "3.10.4"
  }
 },
 "nbformat": 4,
 "nbformat_minor": 5
}
